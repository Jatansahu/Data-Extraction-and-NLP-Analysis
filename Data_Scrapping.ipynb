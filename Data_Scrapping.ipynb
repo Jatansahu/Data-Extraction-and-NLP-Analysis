{
  "cells": [
    {
      "cell_type": "code",
      "execution_count": null,
      "metadata": {
        "id": "gearkk7xBSN0"
      },
      "outputs": [],
      "source": [
        "# Important libraries\n",
        "import pandas as pd\n",
        "import requests\n",
        "import os"
      ]
    },
    {
      "cell_type": "code",
      "execution_count": null,
      "metadata": {
        "colab": {
          "base_uri": "https://localhost:8080/"
        },
        "id": "5F1eIrx2D30I",
        "outputId": "24d3b500-0785-469b-8329-6378a57d74f1"
      },
      "outputs": [
        {
          "name": "stdout",
          "output_type": "stream",
          "text": [
            "Mounted at /content/drive\n"
          ]
        }
      ],
      "source": [
        "# Mounting drive\n",
        "from google.colab import drive\n",
        "drive.mount('/content/drive')\n"
      ]
    },
    {
      "cell_type": "code",
      "execution_count": null,
      "metadata": {
        "colab": {
          "base_uri": "https://localhost:8080/"
        },
        "id": "KZv_sMFLD5JO",
        "outputId": "ec91a124-ca36-42cc-9f56-2d04eec47dec"
      },
      "outputs": [
        {
          "name": "stdout",
          "output_type": "stream",
          "text": [
            "/content/drive/MyDrive/Blackcopper_task\n"
          ]
        }
      ],
      "source": [
        "%cd '/content/drive/MyDrive/Blackcopper_task'"
      ]
    },
    {
      "cell_type": "code",
      "execution_count": null,
      "metadata": {
        "colab": {
          "base_uri": "https://localhost:8080/",
          "height": 423
        },
        "id": "PYOCMwzjITl0",
        "outputId": "286163dd-8edf-46ec-cc31-92570d1e9c27"
      },
      "outputs": [
        {
          "data": {
            "application/vnd.google.colaboratory.intrinsic+json": {
              "summary": "{\n  \"name\": \"inp_df\",\n  \"rows\": 147,\n  \"fields\": [\n    {\n      \"column\": \"URL_ID\",\n      \"properties\": {\n        \"dtype\": \"string\",\n        \"num_unique_values\": 147,\n        \"samples\": [\n          \"bctech2136\",\n          \"bctech2062\",\n          \"bctech2149\"\n        ],\n        \"semantic_type\": \"\",\n        \"description\": \"\"\n      }\n    },\n    {\n      \"column\": \"URL\",\n      \"properties\": {\n        \"dtype\": \"string\",\n        \"num_unique_values\": 147,\n        \"samples\": [\n          \"https://insights.blackcoffer.com/lipsync-automation-for-celebrities-and-influencers/\",\n          \"https://insights.blackcoffer.com/an-etl-solution-for-an-internet-publishing-firm/\",\n          \"https://insights.blackcoffer.com/data-etl-local-service-ads-leads-to-bigquery/\"\n        ],\n        \"semantic_type\": \"\",\n        \"description\": \"\"\n      }\n    }\n  ]\n}",
              "type": "dataframe",
              "variable_name": "inp_df"
            },
            "text/html": [
              "\n",
              "  <div id=\"df-50d420c6-2f54-489d-8c98-2e20eecefbdf\" class=\"colab-df-container\">\n",
              "    <div>\n",
              "<style scoped>\n",
              "    .dataframe tbody tr th:only-of-type {\n",
              "        vertical-align: middle;\n",
              "    }\n",
              "\n",
              "    .dataframe tbody tr th {\n",
              "        vertical-align: top;\n",
              "    }\n",
              "\n",
              "    .dataframe thead th {\n",
              "        text-align: right;\n",
              "    }\n",
              "</style>\n",
              "<table border=\"1\" class=\"dataframe\">\n",
              "  <thead>\n",
              "    <tr style=\"text-align: right;\">\n",
              "      <th></th>\n",
              "      <th>URL_ID</th>\n",
              "      <th>URL</th>\n",
              "    </tr>\n",
              "  </thead>\n",
              "  <tbody>\n",
              "    <tr>\n",
              "      <th>0</th>\n",
              "      <td>bctech2011</td>\n",
              "      <td>https://insights.blackcoffer.com/ml-and-ai-bas...</td>\n",
              "    </tr>\n",
              "    <tr>\n",
              "      <th>1</th>\n",
              "      <td>bctech2012</td>\n",
              "      <td>https://insights.blackcoffer.com/streamlined-i...</td>\n",
              "    </tr>\n",
              "    <tr>\n",
              "      <th>2</th>\n",
              "      <td>bctech2013</td>\n",
              "      <td>https://insights.blackcoffer.com/efficient-dat...</td>\n",
              "    </tr>\n",
              "    <tr>\n",
              "      <th>3</th>\n",
              "      <td>bctech2014</td>\n",
              "      <td>https://insights.blackcoffer.com/effective-man...</td>\n",
              "    </tr>\n",
              "    <tr>\n",
              "      <th>4</th>\n",
              "      <td>bctech2015</td>\n",
              "      <td>https://insights.blackcoffer.com/streamlined-t...</td>\n",
              "    </tr>\n",
              "    <tr>\n",
              "      <th>...</th>\n",
              "      <td>...</td>\n",
              "      <td>...</td>\n",
              "    </tr>\n",
              "    <tr>\n",
              "      <th>142</th>\n",
              "      <td>bctech2153</td>\n",
              "      <td>https://insights.blackcoffer.com/population-an...</td>\n",
              "    </tr>\n",
              "    <tr>\n",
              "      <th>143</th>\n",
              "      <td>bctech2154</td>\n",
              "      <td>https://insights.blackcoffer.com/google-lsa-ap...</td>\n",
              "    </tr>\n",
              "    <tr>\n",
              "      <th>144</th>\n",
              "      <td>bctech2155</td>\n",
              "      <td>https://insights.blackcoffer.com/healthcare-da...</td>\n",
              "    </tr>\n",
              "    <tr>\n",
              "      <th>145</th>\n",
              "      <td>bctech2156</td>\n",
              "      <td>https://insights.blackcoffer.com/budget-sales-...</td>\n",
              "    </tr>\n",
              "    <tr>\n",
              "      <th>146</th>\n",
              "      <td>bctech2157</td>\n",
              "      <td>https://insights.blackcoffer.com/amazon-buy-bo...</td>\n",
              "    </tr>\n",
              "  </tbody>\n",
              "</table>\n",
              "<p>147 rows × 2 columns</p>\n",
              "</div>\n",
              "    <div class=\"colab-df-buttons\">\n",
              "\n",
              "  <div class=\"colab-df-container\">\n",
              "    <button class=\"colab-df-convert\" onclick=\"convertToInteractive('df-50d420c6-2f54-489d-8c98-2e20eecefbdf')\"\n",
              "            title=\"Convert this dataframe to an interactive table.\"\n",
              "            style=\"display:none;\">\n",
              "\n",
              "  <svg xmlns=\"http://www.w3.org/2000/svg\" height=\"24px\" viewBox=\"0 -960 960 960\">\n",
              "    <path d=\"M120-120v-720h720v720H120Zm60-500h600v-160H180v160Zm220 220h160v-160H400v160Zm0 220h160v-160H400v160ZM180-400h160v-160H180v160Zm440 0h160v-160H620v160ZM180-180h160v-160H180v160Zm440 0h160v-160H620v160Z\"/>\n",
              "  </svg>\n",
              "    </button>\n",
              "\n",
              "  <style>\n",
              "    .colab-df-container {\n",
              "      display:flex;\n",
              "      gap: 12px;\n",
              "    }\n",
              "\n",
              "    .colab-df-convert {\n",
              "      background-color: #E8F0FE;\n",
              "      border: none;\n",
              "      border-radius: 50%;\n",
              "      cursor: pointer;\n",
              "      display: none;\n",
              "      fill: #1967D2;\n",
              "      height: 32px;\n",
              "      padding: 0 0 0 0;\n",
              "      width: 32px;\n",
              "    }\n",
              "\n",
              "    .colab-df-convert:hover {\n",
              "      background-color: #E2EBFA;\n",
              "      box-shadow: 0px 1px 2px rgba(60, 64, 67, 0.3), 0px 1px 3px 1px rgba(60, 64, 67, 0.15);\n",
              "      fill: #174EA6;\n",
              "    }\n",
              "\n",
              "    .colab-df-buttons div {\n",
              "      margin-bottom: 4px;\n",
              "    }\n",
              "\n",
              "    [theme=dark] .colab-df-convert {\n",
              "      background-color: #3B4455;\n",
              "      fill: #D2E3FC;\n",
              "    }\n",
              "\n",
              "    [theme=dark] .colab-df-convert:hover {\n",
              "      background-color: #434B5C;\n",
              "      box-shadow: 0px 1px 3px 1px rgba(0, 0, 0, 0.15);\n",
              "      filter: drop-shadow(0px 1px 2px rgba(0, 0, 0, 0.3));\n",
              "      fill: #FFFFFF;\n",
              "    }\n",
              "  </style>\n",
              "\n",
              "    <script>\n",
              "      const buttonEl =\n",
              "        document.querySelector('#df-50d420c6-2f54-489d-8c98-2e20eecefbdf button.colab-df-convert');\n",
              "      buttonEl.style.display =\n",
              "        google.colab.kernel.accessAllowed ? 'block' : 'none';\n",
              "\n",
              "      async function convertToInteractive(key) {\n",
              "        const element = document.querySelector('#df-50d420c6-2f54-489d-8c98-2e20eecefbdf');\n",
              "        const dataTable =\n",
              "          await google.colab.kernel.invokeFunction('convertToInteractive',\n",
              "                                                    [key], {});\n",
              "        if (!dataTable) return;\n",
              "\n",
              "        const docLinkHtml = 'Like what you see? Visit the ' +\n",
              "          '<a target=\"_blank\" href=https://colab.research.google.com/notebooks/data_table.ipynb>data table notebook</a>'\n",
              "          + ' to learn more about interactive tables.';\n",
              "        element.innerHTML = '';\n",
              "        dataTable['output_type'] = 'display_data';\n",
              "        await google.colab.output.renderOutput(dataTable, element);\n",
              "        const docLink = document.createElement('div');\n",
              "        docLink.innerHTML = docLinkHtml;\n",
              "        element.appendChild(docLink);\n",
              "      }\n",
              "    </script>\n",
              "  </div>\n",
              "\n",
              "\n",
              "<div id=\"df-9bb4d0c4-8815-4501-a65e-a6cacb85068d\">\n",
              "  <button class=\"colab-df-quickchart\" onclick=\"quickchart('df-9bb4d0c4-8815-4501-a65e-a6cacb85068d')\"\n",
              "            title=\"Suggest charts\"\n",
              "            style=\"display:none;\">\n",
              "\n",
              "<svg xmlns=\"http://www.w3.org/2000/svg\" height=\"24px\"viewBox=\"0 0 24 24\"\n",
              "     width=\"24px\">\n",
              "    <g>\n",
              "        <path d=\"M19 3H5c-1.1 0-2 .9-2 2v14c0 1.1.9 2 2 2h14c1.1 0 2-.9 2-2V5c0-1.1-.9-2-2-2zM9 17H7v-7h2v7zm4 0h-2V7h2v10zm4 0h-2v-4h2v4z\"/>\n",
              "    </g>\n",
              "</svg>\n",
              "  </button>\n",
              "\n",
              "<style>\n",
              "  .colab-df-quickchart {\n",
              "      --bg-color: #E8F0FE;\n",
              "      --fill-color: #1967D2;\n",
              "      --hover-bg-color: #E2EBFA;\n",
              "      --hover-fill-color: #174EA6;\n",
              "      --disabled-fill-color: #AAA;\n",
              "      --disabled-bg-color: #DDD;\n",
              "  }\n",
              "\n",
              "  [theme=dark] .colab-df-quickchart {\n",
              "      --bg-color: #3B4455;\n",
              "      --fill-color: #D2E3FC;\n",
              "      --hover-bg-color: #434B5C;\n",
              "      --hover-fill-color: #FFFFFF;\n",
              "      --disabled-bg-color: #3B4455;\n",
              "      --disabled-fill-color: #666;\n",
              "  }\n",
              "\n",
              "  .colab-df-quickchart {\n",
              "    background-color: var(--bg-color);\n",
              "    border: none;\n",
              "    border-radius: 50%;\n",
              "    cursor: pointer;\n",
              "    display: none;\n",
              "    fill: var(--fill-color);\n",
              "    height: 32px;\n",
              "    padding: 0;\n",
              "    width: 32px;\n",
              "  }\n",
              "\n",
              "  .colab-df-quickchart:hover {\n",
              "    background-color: var(--hover-bg-color);\n",
              "    box-shadow: 0 1px 2px rgba(60, 64, 67, 0.3), 0 1px 3px 1px rgba(60, 64, 67, 0.15);\n",
              "    fill: var(--button-hover-fill-color);\n",
              "  }\n",
              "\n",
              "  .colab-df-quickchart-complete:disabled,\n",
              "  .colab-df-quickchart-complete:disabled:hover {\n",
              "    background-color: var(--disabled-bg-color);\n",
              "    fill: var(--disabled-fill-color);\n",
              "    box-shadow: none;\n",
              "  }\n",
              "\n",
              "  .colab-df-spinner {\n",
              "    border: 2px solid var(--fill-color);\n",
              "    border-color: transparent;\n",
              "    border-bottom-color: var(--fill-color);\n",
              "    animation:\n",
              "      spin 1s steps(1) infinite;\n",
              "  }\n",
              "\n",
              "  @keyframes spin {\n",
              "    0% {\n",
              "      border-color: transparent;\n",
              "      border-bottom-color: var(--fill-color);\n",
              "      border-left-color: var(--fill-color);\n",
              "    }\n",
              "    20% {\n",
              "      border-color: transparent;\n",
              "      border-left-color: var(--fill-color);\n",
              "      border-top-color: var(--fill-color);\n",
              "    }\n",
              "    30% {\n",
              "      border-color: transparent;\n",
              "      border-left-color: var(--fill-color);\n",
              "      border-top-color: var(--fill-color);\n",
              "      border-right-color: var(--fill-color);\n",
              "    }\n",
              "    40% {\n",
              "      border-color: transparent;\n",
              "      border-right-color: var(--fill-color);\n",
              "      border-top-color: var(--fill-color);\n",
              "    }\n",
              "    60% {\n",
              "      border-color: transparent;\n",
              "      border-right-color: var(--fill-color);\n",
              "    }\n",
              "    80% {\n",
              "      border-color: transparent;\n",
              "      border-right-color: var(--fill-color);\n",
              "      border-bottom-color: var(--fill-color);\n",
              "    }\n",
              "    90% {\n",
              "      border-color: transparent;\n",
              "      border-bottom-color: var(--fill-color);\n",
              "    }\n",
              "  }\n",
              "</style>\n",
              "\n",
              "  <script>\n",
              "    async function quickchart(key) {\n",
              "      const quickchartButtonEl =\n",
              "        document.querySelector('#' + key + ' button');\n",
              "      quickchartButtonEl.disabled = true;  // To prevent multiple clicks.\n",
              "      quickchartButtonEl.classList.add('colab-df-spinner');\n",
              "      try {\n",
              "        const charts = await google.colab.kernel.invokeFunction(\n",
              "            'suggestCharts', [key], {});\n",
              "      } catch (error) {\n",
              "        console.error('Error during call to suggestCharts:', error);\n",
              "      }\n",
              "      quickchartButtonEl.classList.remove('colab-df-spinner');\n",
              "      quickchartButtonEl.classList.add('colab-df-quickchart-complete');\n",
              "    }\n",
              "    (() => {\n",
              "      let quickchartButtonEl =\n",
              "        document.querySelector('#df-9bb4d0c4-8815-4501-a65e-a6cacb85068d button');\n",
              "      quickchartButtonEl.style.display =\n",
              "        google.colab.kernel.accessAllowed ? 'block' : 'none';\n",
              "    })();\n",
              "  </script>\n",
              "</div>\n",
              "\n",
              "  <div id=\"id_655776e7-7169-4e77-8d48-3472d5342d63\">\n",
              "    <style>\n",
              "      .colab-df-generate {\n",
              "        background-color: #E8F0FE;\n",
              "        border: none;\n",
              "        border-radius: 50%;\n",
              "        cursor: pointer;\n",
              "        display: none;\n",
              "        fill: #1967D2;\n",
              "        height: 32px;\n",
              "        padding: 0 0 0 0;\n",
              "        width: 32px;\n",
              "      }\n",
              "\n",
              "      .colab-df-generate:hover {\n",
              "        background-color: #E2EBFA;\n",
              "        box-shadow: 0px 1px 2px rgba(60, 64, 67, 0.3), 0px 1px 3px 1px rgba(60, 64, 67, 0.15);\n",
              "        fill: #174EA6;\n",
              "      }\n",
              "\n",
              "      [theme=dark] .colab-df-generate {\n",
              "        background-color: #3B4455;\n",
              "        fill: #D2E3FC;\n",
              "      }\n",
              "\n",
              "      [theme=dark] .colab-df-generate:hover {\n",
              "        background-color: #434B5C;\n",
              "        box-shadow: 0px 1px 3px 1px rgba(0, 0, 0, 0.15);\n",
              "        filter: drop-shadow(0px 1px 2px rgba(0, 0, 0, 0.3));\n",
              "        fill: #FFFFFF;\n",
              "      }\n",
              "    </style>\n",
              "    <button class=\"colab-df-generate\" onclick=\"generateWithVariable('inp_df')\"\n",
              "            title=\"Generate code using this dataframe.\"\n",
              "            style=\"display:none;\">\n",
              "\n",
              "  <svg xmlns=\"http://www.w3.org/2000/svg\" height=\"24px\"viewBox=\"0 0 24 24\"\n",
              "       width=\"24px\">\n",
              "    <path d=\"M7,19H8.4L18.45,9,17,7.55,7,17.6ZM5,21V16.75L18.45,3.32a2,2,0,0,1,2.83,0l1.4,1.43a1.91,1.91,0,0,1,.58,1.4,1.91,1.91,0,0,1-.58,1.4L9.25,21ZM18.45,9,17,7.55Zm-12,3A5.31,5.31,0,0,0,4.9,8.1,5.31,5.31,0,0,0,1,6.5,5.31,5.31,0,0,0,4.9,4.9,5.31,5.31,0,0,0,6.5,1,5.31,5.31,0,0,0,8.1,4.9,5.31,5.31,0,0,0,12,6.5,5.46,5.46,0,0,0,6.5,12Z\"/>\n",
              "  </svg>\n",
              "    </button>\n",
              "    <script>\n",
              "      (() => {\n",
              "      const buttonEl =\n",
              "        document.querySelector('#id_655776e7-7169-4e77-8d48-3472d5342d63 button.colab-df-generate');\n",
              "      buttonEl.style.display =\n",
              "        google.colab.kernel.accessAllowed ? 'block' : 'none';\n",
              "\n",
              "      buttonEl.onclick = () => {\n",
              "        google.colab.notebook.generateWithVariable('inp_df');\n",
              "      }\n",
              "      })();\n",
              "    </script>\n",
              "  </div>\n",
              "\n",
              "    </div>\n",
              "  </div>\n"
            ],
            "text/plain": [
              "         URL_ID                                                URL\n",
              "0    bctech2011  https://insights.blackcoffer.com/ml-and-ai-bas...\n",
              "1    bctech2012  https://insights.blackcoffer.com/streamlined-i...\n",
              "2    bctech2013  https://insights.blackcoffer.com/efficient-dat...\n",
              "3    bctech2014  https://insights.blackcoffer.com/effective-man...\n",
              "4    bctech2015  https://insights.blackcoffer.com/streamlined-t...\n",
              "..          ...                                                ...\n",
              "142  bctech2153  https://insights.blackcoffer.com/population-an...\n",
              "143  bctech2154  https://insights.blackcoffer.com/google-lsa-ap...\n",
              "144  bctech2155  https://insights.blackcoffer.com/healthcare-da...\n",
              "145  bctech2156  https://insights.blackcoffer.com/budget-sales-...\n",
              "146  bctech2157  https://insights.blackcoffer.com/amazon-buy-bo...\n",
              "\n",
              "[147 rows x 2 columns]"
            ]
          },
          "execution_count": 8,
          "metadata": {},
          "output_type": "execute_result"
        }
      ],
      "source": [
        "# Reading input file\n",
        "inp_df = pd.read_excel('Input.xlsx')\n",
        "inp_df"
      ]
    },
    {
      "cell_type": "code",
      "execution_count": null,
      "metadata": {
        "colab": {
          "base_uri": "https://localhost:8080/",
          "height": 185
        },
        "id": "E7D_D0Ff5xmG",
        "outputId": "c1512dc2-7481-4b42-810f-7496dff22d1a"
      },
      "outputs": [
        {
          "ename": "TypeError",
          "evalue": "PageElement.get_text() got an unexpected keyword argument 'seprator'",
          "output_type": "error",
          "traceback": [
            "\u001b[0;31m---------------------------------------------------------------------------\u001b[0m",
            "\u001b[0;31mTypeError\u001b[0m                                 Traceback (most recent call last)",
            "\u001b[0;32m<ipython-input-64-b2b12b36c59d>\u001b[0m in \u001b[0;36m<cell line: 8>\u001b[0;34m()\u001b[0m\n\u001b[1;32m      6\u001b[0m             \u001b[0;31m# for paragraph in article_div.find_all('p'):\u001b[0m\u001b[0;34m\u001b[0m\u001b[0;34m\u001b[0m\u001b[0m\n\u001b[1;32m      7\u001b[0m                 \u001b[0;31m# article_text += paragraph.get_text(strip=True) + \"\\n\"\u001b[0m\u001b[0;34m\u001b[0m\u001b[0;34m\u001b[0m\u001b[0m\n\u001b[0;32m----> 8\u001b[0;31m \u001b[0marticle_text\u001b[0m \u001b[0;34m=\u001b[0m \u001b[0marticle_div\u001b[0m\u001b[0;34m.\u001b[0m\u001b[0mget_text\u001b[0m\u001b[0;34m(\u001b[0m\u001b[0mseprator\u001b[0m \u001b[0;34m=\u001b[0m \u001b[0;34m'\\n'\u001b[0m\u001b[0;34m,\u001b[0m \u001b[0mstrip\u001b[0m \u001b[0;34m=\u001b[0m \u001b[0;32mTrue\u001b[0m\u001b[0;34m)\u001b[0m\u001b[0;34m\u001b[0m\u001b[0;34m\u001b[0m\u001b[0m\n\u001b[0m",
            "\u001b[0;31mTypeError\u001b[0m: PageElement.get_text() got an unexpected keyword argument 'seprator'"
          ]
        }
      ],
      "source": [
        "url = \"https://insights.blackcoffer.com/ml-and-ai-based-insurance-premium-model-to-predict-premium-to-be-charged-by-the-insurance-company/\"\n",
        "response = requests.get(url)\n",
        "soup = BeautifulSoup(response.content, 'html.parser')\n",
        "article_div = soup.find('div', class_='td-post-content')\n",
        "\n",
        "            # for paragraph in article_div.find_all('p'):\n",
        "                # article_text += paragraph.get_text(strip=True) + \"\\n\"\n",
        "# article_text = article_div.get_text(seprator = '\\n', strip = True)"
      ]
    },
    {
      "cell_type": "code",
      "execution_count": null,
      "metadata": {
        "id": "1UWyG_1M6jQq"
      },
      "outputs": [],
      "source": [
        "article_text = \"\"\n",
        "for para in article_div:\n",
        "  article_text += para.get_text(strip=True)\n",
        "  # print(para.get_text(strip=True))\n",
        "  # print(article_div.get_text(strip = True))"
      ]
    },
    {
      "cell_type": "code",
      "execution_count": null,
      "metadata": {
        "id": "aaR9oaKr722l"
      },
      "outputs": [],
      "source": [
        "article_text = article_div.get_text(strip=True)"
      ]
    },
    {
      "cell_type": "code",
      "execution_count": null,
      "metadata": {
        "colab": {
          "background_save": true,
          "base_uri": "https://localhost:8080/"
        },
        "id": "Gn1UREnsdA_G",
        "outputId": "4abef692-9dc6-4414-ac12-4bc0c466a5f2"
      },
      "outputs": [
        {
          "name": "stdout",
          "output_type": "stream",
          "text": [
            "Finished extracting all articles.\n"
          ]
        }
      ],
      "source": [
        "from bs4 import BeautifulSoup\n",
        "\n",
        "# Function to extract article title and text\n",
        "def extract_article_text(url):\n",
        "    response = requests.get(url)\n",
        "    soup = BeautifulSoup(response.content, 'html.parser')\n",
        "\n",
        "    # extract article title\n",
        "    try:\n",
        "        title = soup.title.get_text()\n",
        "    except AttributeError:\n",
        "        title = \"Title not found\"\n",
        "\n",
        "    # extract article text\n",
        "    article_text = \"\"\n",
        "    try:\n",
        "        article_div = soup.find('div', class_='td-post-content')\n",
        "        if article_div:\n",
        "            article_text = article_div.get_text(seprator= '\\n', strip=True)\n",
        "            # for paragraph in article_div.find_all('p'):\n",
        "                # article_text += paragraph.get_text(strip=True) + \"\\n\"\n",
        "            # article_text = article_div.get_text(seprator = '\\n', strip = True)\n",
        "        else:\n",
        "            article_text = \"Article text not found\"\n",
        "    except AttributeError:\n",
        "        article_text = \"Article text not found\"\n",
        "\n",
        "    return title, article_text\n",
        "\n",
        "# Excel file\n",
        "input_file_path = '/content/drive/MyDrive/Blackcopper_task/Input.xlsx'\n",
        "df = pd.read_excel(input_file_path)\n",
        "\n",
        "# Copy DataFrame\n",
        "dff = df.copy()\n",
        "\n",
        "# Output directory\n",
        "output_dir = '/content/drive/MyDrive/Blackcopper_task/'\n",
        "os.makedirs(output_dir, exist_ok=True)\n",
        "\n",
        "# Iterate over each row in the DataFrame\n",
        "for index, row in df[:1].iterrows():\n",
        "    url_id = row['URL_ID']\n",
        "    url = row['URL']\n",
        "\n",
        "    try:\n",
        "        title, article_text = extract_article_text(url)\n",
        "\n",
        "        # Save the article text in a text file with URL_ID as the file name\n",
        "        output_file_path = os.path.join(output_dir, f\"{url_id}.txt\")\n",
        "        with open(output_file_path, 'w', encoding='utf-8') as file:\n",
        "            file.write(title + \"\\n\\n\" + article_text)\n",
        "\n",
        "    except Exception as e:\n",
        "        print(f\"Failed to extract article {url_id}: {e}\")\n",
        "\n",
        "print(\"Finished extracting all articles.\")\n"
      ]
    },
    {
      "cell_type": "code",
      "execution_count": null,
      "metadata": {
        "colab": {
          "base_uri": "https://localhost:8080/",
          "height": 55
        },
        "id": "mF3F8P-GyqnI",
        "outputId": "3d133730-e1a2-4bf3-f959-304048027b0e"
      },
      "outputs": [
        {
          "data": {
            "application/vnd.google.colaboratory.intrinsic+json": {
              "type": "string"
            },
            "text/plain": [
              "'ML and AI-based insurance premium model to predict premium to be charged by the insurance company - Blackcoffer Insights'"
            ]
          },
          "execution_count": 87,
          "metadata": {},
          "output_type": "execute_result"
        }
      ],
      "source": [
        "title"
      ]
    },
    {
      "cell_type": "code",
      "execution_count": null,
      "metadata": {
        "colab": {
          "base_uri": "https://localhost:8080/",
          "height": 258
        },
        "id": "KwGie5K7yuaT",
        "outputId": "ea1f00aa-40f2-4d36-a51d-98ecf5f65419"
      },
      "outputs": [
        {
          "data": {
            "application/vnd.google.colaboratory.intrinsic+json": {
              "type": "string"
            },
            "text/plain": [
              "'Client BackgroundClient:A leading insurance firm worldwideIndustry Type:BFSIProducts & Services:InsuranceOrganization Size:10000+The ProblemThe insurance industry, particularly in the context of providing coverage to Public Company Directors against Insider Trading public lawsuits, faces a significant challenge in accurately determining insurance premiums. Traditional methods of premium calculation may lack precision, and there is a growing need for more sophisticated and data-driven approaches. The integration of Artificial Intelligence (AI) and Machine Learning (ML) models in predicting insurance premiums for this specialized coverage is essential to enhance accuracy, fairness, and responsiveness in adapting to evolving risk factors.The problem at hand involves developing robust AI and ML models that can effectively analyze a multitude of dynamic variables influencing the risk profile of Public Company Directors. These variables include market conditions, regulatory changes, historical legal precedents, financial performance of the insured company, and individual directorial behaviors. The goal is to create a predictive model that not only accurately assesses the risk associated with potential insider trading public lawsuits but also adapts in real-time to new information, ensuring that the insurance premiums charged by the global insurance firm are reflective of the current risk landscape.Key Challenges:Data Complexity:The relevant data for predicting insurance premiums in this context is multifaceted, involving financial data, legal precedents, market trends, and individual directorial histories. Integrating and interpreting this diverse set of data poses a significant challenge.Dynamic Risk Factors:The risk factors influencing insider trading public lawsuits are dynamic and subject to rapid changes. The models must be capable of adapting to evolving market conditions, legal landscapes, and individual company dynamics.Fairness and Ethics:Ensuring fairness in premium calculation is critical. The models should be designed to avoid biases and discriminatory practices, considering the diverse backgrounds and contexts of Public Company Directors.Regulatory Compliance:The insurance industry is subject to regulatory frameworks that vary across jurisdictions. The developed models need to comply with these regulations while providing accurate and reliable predictions.Interpretability:Transparency in model predictions is crucial, especially in an industry where decisions can have significant financial implications. Ensuring that the AI and ML models are interpretable and explainable is vital for gaining the trust of stakeholders.Addressing these challenges will not only improve the accuracy of insurance premium predictions but also contribute to the overall efficiency and effectiveness of the insurance services provided to Public Company Directors by the leading global insurance firm.Blackcoffer SolutionTo develop an ML and AI-based insurance premium prediction model for Public Company Directors in the USA, safeguarding them against insider trading public lawsuits, we propose a comprehensive solution leveraging advanced machine learning techniques. The goal is to create a model that accurately assesses the risk associated with individual directors and adapts to dynamic market conditions.Data Collection and Preprocessing:Financial Data:Gather financial data related to the insured companies, including revenue, profit margins, and financial stability indicators.Incorporate stock market data and trading patterns to capture potential insider trading signals.Legal History:Collect historical legal cases related to insider trading lawsuits, with a focus on outcomes and financial implications.Integrate legal precedents to understand patterns and potential future risks.Directorial Profiles:Compile individual profiles for each Public Company Director, including their professional history, prior legal involvements, and any relevant affiliations.Market Trends and Regulatory Changes:Monitor market trends and regulatory changes affecting the insurance landscape.Incorporate external data sources for real-time updates on legal and market conditions.Feature Engineering:Risk Factors:Identify key risk factors contributing to the likelihood of insider trading allegations.Develop features that encapsulate financial stability, market conditions, and individual directorial behaviors.Sentiment Analysis:Implement sentiment analysis on news articles and social media to gauge public perception and potential legal scrutiny.Machine Learning Models:Supervised Learning:Employ supervised learning algorithms such as Random Forests, Gradient Boosting, or ensemble models.Train the model on historical data with labeled outcomes related to insider trading lawsuits.Anomaly Detection:Implement anomaly detection techniques to identify unusual patterns that may indicate potential insider trading activities.Dynamic Risk Assessment:Real-Time Updates:Design the model to continuously update with real-time data to adapt to evolving risk factors.Implement a feedback loop to capture the impact of recent legal cases and market events.Scenario Analysis:Develop scenario analysis capabilities to assess the impact of hypothetical events on premium calculations.Fairness and Transparency:Fairness Metrics:Integrate fairness metrics to ensure unbiased predictions across diverse directorial profiles.Regularly audit and refine the model to address any identified biases.Explainability:Implement model explainability tools to provide clear insights into premium calculations.Ensure transparency in how the model arrives at its predictions.Model Integration and Deployment:User-Friendly Interface:Develop a user-friendly interface for underwriters to interact with the model.Ensure seamless integration into the existing insurance company workflow.API Integration:Provide API endpoints for easy integration with existing insurance systems.Monitoring and Maintenance:Model Monitoring:Implement continuous monitoring to detect model drift and performance degradation.Regularly update the model with new data and retrain it to maintain accuracy.Scalability:Design the solution to scale horizontally to accommodate an increasing volume of data.By adopting this ML and AI-based approach, the insurance company can enhance its ability to predict insurance premiums accurately, adapt to changing risk landscapes, and provide tailored coverage for Public Company Directors against insider trading public lawsuits in the dynamic environment of the USA.Solution Architecture DiagramData Collection and Integration:Data Sources: Financial records, legal databases, directorial profiles, market data.Integration Layer: ETL processes, SQL/NoSQL databases.Feature Engineering:Feature Selection and Engineering Module.Machine Learning Models:Model Training Module: Scikit-Learn, TensorFlow, or PyTorch.Model Evaluation Component.Dynamic Risk Assessment:Real-Time Data Integration Component: Apache Kafka.Scenario Analysis Module.Fairness and Transparency:Fairness Metrics Integration.Explainability Module: SHAP or Lime.Model Integration and Deployment:API Layer: RESTful API.User Interface (UI).Documentation for Integration.Monitoring and Maintenance:Monitoring Dashboard: Prometheus, Grafana.Automated Model Update Pipeline: CI/CD.General Documentation:Model Architecture Document.Technical User Manual.Compliance Documentation:Regulatory Compliance Report.Data Privacy and Security Documentation.Post-Implementation Support:Support and Maintenance Plan.Training and Knowledge Transfer:Training Sessions.Knowledge Transfer Documentation.Scalability and Future-Proofing:Scalable Infrastructure.Flexibility for Future Enhancements.Tools & Technology Used By BlackcofferBuilding an ML and AI-based insurance premium prediction model involves the use of various tools and technologies across different stages of development. Here’s a list of tools and technologies that can be employed for creating such a model for a leading insurance firm in the USA, specifically targeting Public Company Directors against insider trading public lawsuits:Data Collection and Preprocessing:Python:A versatile programming language commonly used for data manipulation and preprocessing.Pandas:A Python library for data manipulation and analysis, useful for handling structured data.NumPy:A library for numerical operations in Python, often used for efficient array operations.SQL/NoSQL Databases:To store and retrieve structured and unstructured data efficiently.Feature Engineering:Scikit-Learn:A machine learning library in Python that includes tools for feature extraction and preprocessing.NLTK (Natural Language Toolkit):For processing and analyzing textual data, particularly for sentiment analysis.Machine Learning Models:Scikit-Learn:Provides various machine learning algorithms for classification tasks, including Random Forests and Gradient Boosting.XGBoost or LightGBM:Powerful gradient boosting frameworks for improved predictive performance.TensorFlow or PyTorch:Deep learning frameworks for building and training neural networks if the complexity of the model demands it.Dynamic Risk Assessment:Apache Kafka or RabbitMQ:Message brokers to facilitate real-time data streaming and updates.Airflow:A platform to programmatically author, schedule, and monitor workflows, useful for scheduling model updates.Fairness and Transparency:Aequitas or Fairness Indicators:Libraries for assessing and mitigating bias in machine learning models.SHAP (SHapley Additive exPlanations):An algorithm for model interpretability.Model Integration and Deployment:Flask or Django:Web frameworks for building the model deployment API.Docker:Containerization tool for packaging the model and its dependencies.Kubernetes:Container orchestration for deploying and managing containerized applications at scale.RESTful API:For communication between the model and other components in the insurance company’s infrastructure.Monitoring and Maintenance:Prometheus:An open-source monitoring and alerting toolkit.Grafana:A platform for monitoring and observability with beautiful, customizable dashboards.Jenkins or GitLab CI/CD:Continuous integration and continuous deployment tools for automating model updates and deployment.MLflow:An open-source platform to manage the end-to-end machine learning lifecycle.General Development Environment:Jupyter Notebooks:Interactive computing environment for exploratory data analysis and model development.Git:Version control system for collaborative development.VS Code or PyCharm:Integrated development environments (IDEs) for coding and debugging.It’s important to note that the choice of specific tools may vary based on the preferences of the data science team, the complexity of the model, and the existing technology stack of the insurance company. Additionally, compliance with regulatory requirements and industry standards should be considered in the selection of tools and technologies.Blackcoffer DeliverablesThe deliverables for an ML and AI-based insurance premium model for Public Company Directors in the USA, aiming to predict premiums for protection against insider trading public lawsuits, would encompass various stages of the development and deployment process. Here is a comprehensive list of deliverables:1. Project Documentation:1.1Project Proposal:Clearly outlines the objectives, scope, and methodology of the premium prediction model.1.2Requirements Document:Specifies the functional and non-functional requirements of the model, considering the insurance company’s needs and regulatory compliance.2. Data Collection and Preprocessing:2.1Data Collection Report:Details the sources and types of data gathered, including financial records, legal cases, and directorial profiles.2.2Cleaned and Preprocessed Dataset:A structured dataset ready for model training, containing relevant features and properly handled missing or inconsistent data.3. Feature Engineering:3.1Feature Selection and Engineering Report:Documents the process of selecting and creating features, highlighting their relevance to the prediction task.4. Machine Learning Models:4.1Trained ML Models:Includes the serialized models trained on historical data, such as Random Forests, Gradient Boosting, or other chosen algorithms.4.2Model Evaluation Report:Evaluates the performance of the models on validation and test datasets, including metrics like accuracy, precision, recall, and F1-score.5. Dynamic Risk Assessment:5.1Real-Time Integration Component:Code or module that integrates real-time data for dynamic risk assessment.5.2Scenario Analysis Module:Component allowing the assessment of premium changes based on hypothetical scenarios.6. Fairness and Transparency:6.1Fairness Assessment Report:Evaluates and mitigates bias, documenting fairness metrics and any adjustments made.6.2Explainability Module:Implementation of tools or methodologies for model interpretability and explanation.7. Model Integration and Deployment:7.1Deployed API:RESTful API endpoint for seamless integration into the insurance company’s systems.7.2User Interface (UI):User-friendly interface for underwriters to interact with the model, providing insights and entering necessary information.7.3Documentation for Integration:Comprehensive guide on integrating the model into the existing workflow, including API documentation.8. Monitoring and Maintenance:8.1Monitoring Dashboard:Visual representation of key metrics and alerts for model performance, developed using tools like Grafana.8.2Automated Model Update Pipeline:CI/CD pipeline or automated process for updating and retraining the model with new data.9. General Documentation:9.1Model Architecture Document:Detailed explanation of the model’s architecture, including components and their interactions.9.2Technical User Manual:Documentation guiding technical users on deploying, maintaining, and troubleshooting the model.10. Training and Knowledge Transfer:10.1Training Sessions:Conducted for the insurance company’s staff, including underwriters and IT personnel, to ensure effective use and understanding of the model.10.2Knowledge Transfer Documentation:Detailed documentation covering model usage, maintenance procedures, and troubleshooting tips.11. Compliance Documentation:11.1Regulatory Compliance Report:Ensures that the model adheres to relevant insurance regulations in the USA.11.2Data Privacy and Security Documentation:Outlines measures taken to ensure the privacy and security of sensitive data.12. Post-Implementation Support:12.1Support and Maintenance Plan:Document outlining the support and maintenance plan for the model post-implementation, including response times and escalation procedures.By delivering these items, the insurance firm can ensure a thorough and transparent development process, facilitating successful integration and utilization of the ML and AI-based insurance premium prediction model.Business ImpactsThe implementation of an ML and AI-based insurance premium model for Public Company Directors in the USA, specifically tailored to protect them from insider trading public lawsuits, can have significant business impacts for the leading insurance firm. Here are several potential business impacts:1.Improved Accuracy and Risk Assessment:Impact:Enhanced accuracy in predicting premiums based on advanced data analysis and machine learning algorithms.Benefit:Better risk assessment leads to more precise premium calculations, reducing the likelihood of underpricing or overpricing policies.2.Increased Competitiveness:Impact:Utilizing cutting-edge technology to provide more accurate and dynamic premium predictions.Benefit:Positions the insurance firm as a leader in the market, attracting more clients seeking innovative and reliable insurance solutions.3.Tailored Coverage and Pricing:Impact:Customizing coverage and premiums based on individual directorial profiles and evolving risk factors.Benefit:Attracts clients with diverse risk profiles, offering tailored solutions that align with their specific needs.4.Faster Decision-Making:Impact:Automation of premium calculations and decision-making processes.Benefit:Speeds up underwriting processes, enabling quicker responses to client inquiries and facilitating faster policy issuance.5.Reduced Operational Costs:Impact:Automation of routine tasks related to premium calculation and risk assessment.Benefit:Decreases manual workload, leading to operational efficiency and cost savings.6.Real-Time Adaptation to Market Changes:Impact:Integration of real-time data for dynamic risk assessment.Benefit:Enables the insurance firm to adapt quickly to changes in market conditions, ensuring that premiums remain reflective of current risk landscapes.7.Enhanced Customer Satisfaction:Impact:Accurate pricing, fair premium calculations, and transparent communication.Benefit:Increases customer satisfaction by providing a reliable and customer-centric insurance experience.8.Mitigation of Regulatory Risks:Impact:Implementation of a solution that complies with insurance regulations and industry standards.Benefit:Reduces the risk of regulatory non-compliance, protecting the firm from legal and financial repercussions.9.Data-Driven Decision-Making:Impact:Utilizing data-driven insights for decision-making processes.Benefit:Empowers the firm’s leadership with actionable insights, contributing to strategic decision-making and business planning.10.Brand Reputation and Trust:Impact:Adoption of fairness-aware and transparent AI models.Benefit:Builds trust among clients and stakeholders by demonstrating a commitment to fairness, transparency, and ethical AI practices.11.Risk Mitigation for Clients:Impact:Providing insurance coverage that reflects the evolving nature of insider trading public lawsuits.Benefit:Assists Public Company Directors in mitigating financial risks associated with legal actions, enhancing the value proposition for clients.12.Scalability and Future-Proofing:Impact:Designing the solution to scale and adapt to future industry developments.Benefit:Ensures the longevity and relevance of the insurance firm’s technology infrastructure in the face of evolving business and technological landscapes.13.Revenue Growth:Impact:Attracting a larger customer base and retaining existing clients through innovative and accurate insurance solutions.Benefit:Contributes to revenue growth by expanding the firm’s market share and increasing customer loyalty.By recognizing and leveraging these business impacts, the leading insurance firm can derive significant value from the implementation of an ML and AI-based insurance premium model tailored for Public Company Directors in the USA.SummarizeSummarized: https://blackcoffer.com/This project was done by Blackcoffer Team, a Global IT Consulting firm.Contact DetailsThis solution was designed and developed by Blackcoffer TeamHere are my contact details:Firm Name: Blackcoffer Pvt. Ltd.Firm Website: www.blackcoffer.comFirm Address: 4/2, E-Extension, Shaym Vihar Phase 1, New Delhi 110043Email: ajay@blackcoffer.comSkype: asbidyarthyWhatsApp: +91 9717367468Telegram: @asbidyarthy'"
            ]
          },
          "execution_count": 88,
          "metadata": {},
          "output_type": "execute_result"
        }
      ],
      "source": [
        "article_text"
      ]
    },
    {
      "cell_type": "code",
      "execution_count": null,
      "metadata": {
        "id": "SLEsPJ3Zyz6l"
      },
      "outputs": [],
      "source": []
    }
  ],
  "metadata": {
    "colab": {
      "provenance": []
    },
    "kernelspec": {
      "display_name": "Python 3",
      "name": "python3"
    },
    "language_info": {
      "name": "python"
    }
  },
  "nbformat": 4,
  "nbformat_minor": 0
}